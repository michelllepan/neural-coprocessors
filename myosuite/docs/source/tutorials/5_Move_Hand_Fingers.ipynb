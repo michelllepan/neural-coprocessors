{
 "cells": [
  {
   "cell_type": "code",
   "execution_count": null,
   "metadata": {},
   "outputs": [],
   "source": [
    "import myosuite\n",
    "import gym\n",
    "import skvideo.io\n",
    "import numpy as np\n",
    "import os"
   ]
  },
  {
   "cell_type": "code",
   "execution_count": null,
   "metadata": {},
   "outputs": [],
   "source": [
    "from IPython.display import HTML\n",
    "from base64 import b64encode\n",
    " \n",
    "def show_video(video_path, video_width = 400):\n",
    "   \n",
    "  video_file = open(video_path, \"r+b\").read()\n",
    " \n",
    "  video_url = f\"data:video/mp4;base64,{b64encode(video_file).decode()}\"\n",
    "  return HTML(f\"\"\"<video autoplay width={video_width} controls><source src=\"{video_url}\"></video>\"\"\")\n"
   ]
  },
  {
   "cell_type": "code",
   "execution_count": null,
   "metadata": {
    "scrolled": true
   },
   "outputs": [],
   "source": [
    "import mujoco\n",
    "env = gym.make('myoHandPoseRandom-v0', normalize_act = False)\n",
    "\n",
    "env.env.init_qpos[:] = np.zeros(len(env.env.init_qpos),)\n",
    "mjcModel = env.env.sim.model\n",
    "\n",
    "# print(\"Muscles:\")\n",
    "# for i in range(mjcModel.na):\n",
    "#     print([i,mjcModel.actuator(i).name])\n",
    "\n",
    "# print(\"\\nJoints:\")\n",
    "# for i in range(mjcModel.njnt):\n",
    "#     print([i,mjcModel.joint(i).name])\n",
    "\n",
    "\n",
    "musc_fe = [mjcModel.actuator('FDP2').id,mjcModel.actuator('EDC2').id]\n",
    "L_range = round(1/mjcModel.opt.timestep)\n",
    "skip_frame = 50\n",
    "env.reset()\n",
    "\n",
    "frames_sim = []\n",
    "for iter_n in range(3):\n",
    "    print(\"iteration: \"+str(iter_n))\n",
    "    res_sim = []\n",
    "    for rp in range(2): #alternate between flexor and extensor\n",
    "        for s in range(L_range):\n",
    "            if not(s%skip_frame):\n",
    "                frame = env.sim.renderer.render_offscreen(\n",
    "                                width=400,\n",
    "                                height=400,\n",
    "                                camera_id=3)\n",
    "                frames_sim.append(frame)\n",
    "            \n",
    "            ctrl = np.zeros(mjcModel.na,)\n",
    "\n",
    "            act_val = 1 # maximum muscle activation\n",
    "            if rp==0:\n",
    "                ctrl[musc_fe[0]] = act_val\n",
    "                ctrl[musc_fe[1]] = 0\n",
    "            else:\n",
    "                ctrl[musc_fe[1]] = act_val\n",
    "                ctrl[musc_fe[0]] = 0                        \n",
    "            env.step(ctrl)\n",
    "\n",
    "os.makedirs('videos', exist_ok=True)\n",
    "# make a local copy\n",
    "skvideo.io.vwrite('videos/MyoSuite.mp4', np.asarray(frames_sim),outputdict={\"-pix_fmt\": \"yuv420p\"})\n",
    "\n",
    "# show in the notebook\n",
    "show_video('videos/MyoSuite.mp4')"
   ]
  },
  {
   "cell_type": "code",
   "execution_count": null,
   "metadata": {},
   "outputs": [],
   "source": []
  }
 ],
 "metadata": {
  "kernelspec": {
   "display_name": "testMS",
   "language": "python",
   "name": "testms"
  }
 },
 "nbformat": 4,
 "nbformat_minor": 4
}
